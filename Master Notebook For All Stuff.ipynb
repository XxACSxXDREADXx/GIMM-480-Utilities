{
 "cells": [
  {
   "cell_type": "code",
   "execution_count": 2,
   "metadata": {
    "scrolled": true
   },
   "outputs": [
    {
     "name": "stdout",
     "output_type": "stream",
     "text": [
      "11\n",
      "<class 'int'>\n",
      "Help on built-in function print in module builtins:\n",
      "\n",
      "print(...)\n",
      "    print(value, ..., sep=' ', end='\\n', file=sys.stdout, flush=False)\n",
      "    \n",
      "    Prints the values to a stream, or to sys.stdout by default.\n",
      "    Optional keyword arguments:\n",
      "    file:  a file-like object (stream); defaults to the current sys.stdout.\n",
      "    sep:   string inserted between values, default a space.\n",
      "    end:   string appended after the last value, default a newline.\n",
      "    flush: whether to forcibly flush the stream.\n",
      "\n"
     ]
    }
   ],
   "source": [
    "a = 5\n",
    "b = 6\n",
    "print(a+b)\n",
    "print(type(a))\n",
    "help(print)"
   ]
  },
  {
   "cell_type": "code",
   "execution_count": 5,
   "metadata": {},
   "outputs": [
    {
     "name": "stdout",
     "output_type": "stream",
     "text": [
      "1<>2<>3<>4<>5\n"
     ]
    }
   ],
   "source": [
    "print(1,2,3,4,5, sep='<>')"
   ]
  },
  {
   "cell_type": "code",
   "execution_count": 6,
   "metadata": {},
   "outputs": [
    {
     "name": "stdout",
     "output_type": "stream",
     "text": [
      "2.0\n"
     ]
    }
   ],
   "source": [
    "def example_func(a,b):\n",
    "    return a/b\n",
    "print(example_func(4,2))"
   ]
  },
  {
   "cell_type": "code",
   "execution_count": 8,
   "metadata": {},
   "outputs": [
    {
     "name": "stdout",
     "output_type": "stream",
     "text": [
      "Hello World\n"
     ]
    }
   ],
   "source": [
    "def example_2(input_string):\n",
    "    #your code here\n",
    "    \n",
    "    \"\"\"\n",
    "        multiple lines commented\n",
    "        \n",
    "    \n",
    "    \"\"\"\n",
    "    \n",
    "    return input_string\n",
    "print(example_2('Hello World'))"
   ]
  },
  {
   "cell_type": "code",
   "execution_count": 9,
   "metadata": {},
   "outputs": [
    {
     "ename": "SyntaxError",
     "evalue": "invalid syntax (<ipython-input-9-edb1e37272ca>, line 2)",
     "output_type": "error",
     "traceback": [
      "\u001b[1;36m  File \u001b[1;32m\"<ipython-input-9-edb1e37272ca>\"\u001b[1;36m, line \u001b[1;32m2\u001b[0m\n\u001b[1;33m    print \"First list length : \", len(list1)\u001b[0m\n\u001b[1;37m                               ^\u001b[0m\n\u001b[1;31mSyntaxError\u001b[0m\u001b[1;31m:\u001b[0m invalid syntax\n"
     ]
    }
   ],
   "source": [
    "list1, list2 = [123, 'xyz', 'zara'], [456, 'abc']\n",
    "print \"First list length : \", len(list1)\n",
    "print \"Second list length : \", len(list2)"
   ]
  },
  {
   "cell_type": "code",
   "execution_count": 13,
   "metadata": {},
   "outputs": [
    {
     "name": "stdout",
     "output_type": "stream",
     "text": [
      "(['Hello', 7, 8, 'World'], ['Test 3'])\n"
     ]
    }
   ],
   "source": [
    "def example_3(a,b):\n",
    "    a = ['Hello', 7, 8, 'World']\n",
    "    b = [\"Test 3\"]\n",
    "    \n",
    "    return a,b\n",
    "print(example_3(a,b))"
   ]
  },
  {
   "cell_type": "code",
   "execution_count": 21,
   "metadata": {},
   "outputs": [
    {
     "name": "stdout",
     "output_type": "stream",
     "text": [
      "2\n"
     ]
    }
   ],
   "source": [
    "def example_4(input_string):\n",
    "    \n",
    "    count = input_string.split()\n",
    "    \n",
    "    return len(count)\n",
    "print(example_4(\"Fuck This\"))"
   ]
  },
  {
   "cell_type": "code",
   "execution_count": 3,
   "metadata": {},
   "outputs": [
    {
     "name": "stdout",
     "output_type": "stream",
     "text": [
      "2.9000000000000004\n"
     ]
    }
   ],
   "source": [
    "sum  = float\n",
    "list1, list2 = [2,3,4,], [.3,.5,.2]\n",
    "sum = (list1[0]*list2[0])+(list1[1]*list2[1])+(list1[2]*list2[2])\n",
    "print(sum)"
   ]
  },
  {
   "cell_type": "code",
   "execution_count": 6,
   "metadata": {},
   "outputs": [
    {
     "name": "stdout",
     "output_type": "stream",
     "text": [
      "0.816496580927726\n"
     ]
    }
   ],
   "source": [
    "import numpy as np\n",
    "data = [2,3,4]\n",
    "print(np.std(data))"
   ]
  },
  {
   "cell_type": "code",
   "execution_count": 16,
   "metadata": {},
   "outputs": [
    {
     "ename": "TypeError",
     "evalue": "'int' object is not callable",
     "output_type": "error",
     "traceback": [
      "\u001b[1;31m---------------------------------------------------------------------------\u001b[0m",
      "\u001b[1;31mTypeError\u001b[0m                                 Traceback (most recent call last)",
      "\u001b[1;32m<ipython-input-16-e9448b12c8e6>\u001b[0m in \u001b[0;36m<module>\u001b[1;34m\u001b[0m\n\u001b[0;32m      9\u001b[0m \u001b[1;33m\u001b[0m\u001b[0m\n\u001b[0;32m     10\u001b[0m \u001b[1;32mfor\u001b[0m \u001b[0mi\u001b[0m \u001b[1;32min\u001b[0m \u001b[0mrange\u001b[0m\u001b[1;33m(\u001b[0m\u001b[1;36m0\u001b[0m\u001b[1;33m,\u001b[0m\u001b[1;36m2\u001b[0m\u001b[1;33m)\u001b[0m\u001b[1;33m:\u001b[0m\u001b[1;33m\u001b[0m\u001b[1;33m\u001b[0m\u001b[0m\n\u001b[1;32m---> 11\u001b[1;33m     \u001b[0mstd\u001b[0m \u001b[1;33m=\u001b[0m \u001b[0mmath\u001b[0m\u001b[1;33m.\u001b[0m\u001b[0msqrt\u001b[0m\u001b[1;33m(\u001b[0m\u001b[1;33m(\u001b[0m\u001b[0msum\u001b[0m\u001b[1;33m(\u001b[0m\u001b[1;33m(\u001b[0m\u001b[0mdata\u001b[0m\u001b[1;33m[\u001b[0m\u001b[0mi\u001b[0m\u001b[1;33m]\u001b[0m\u001b[1;33m-\u001b[0m\u001b[0mmean\u001b[0m\u001b[1;33m)\u001b[0m\u001b[1;33m**\u001b[0m\u001b[1;36m2\u001b[0m\u001b[1;33m)\u001b[0m\u001b[1;33m)\u001b[0m\u001b[1;33m/\u001b[0m\u001b[0mn\u001b[0m\u001b[1;33m)\u001b[0m\u001b[1;33m\u001b[0m\u001b[1;33m\u001b[0m\u001b[0m\n\u001b[0m\u001b[0;32m     12\u001b[0m \u001b[0mprint\u001b[0m\u001b[1;33m(\u001b[0m\u001b[0mstd\u001b[0m\u001b[1;33m)\u001b[0m\u001b[1;33m\u001b[0m\u001b[1;33m\u001b[0m\u001b[0m\n\u001b[0;32m     13\u001b[0m \u001b[1;33m\u001b[0m\u001b[0m\n",
      "\u001b[1;31mTypeError\u001b[0m: 'int' object is not callable"
     ]
    }
   ],
   "source": [
    "import math\n",
    "std = float\n",
    "sum = 9\n",
    "mean = float\n",
    "n = 3\n",
    "data = [2,3,4]\n",
    "\n",
    "mean = (sum/n)\n",
    "\n",
    "for i in range(0,2):\n",
    "    std = math.sqrt((sum((data[i]-mean)**2))/n)\n",
    "print(std)\n",
    "\n",
    "\n"
   ]
  },
  {
   "cell_type": "code",
   "execution_count": 20,
   "metadata": {},
   "outputs": [
    {
     "name": "stdout",
     "output_type": "stream",
     "text": [
      "0.816496580927726\n"
     ]
    }
   ],
   "source": [
    "import math\n",
    "data = [2,3,4]\n",
    "sum = (data[0]+data[1]+data[2])\n",
    "n = len(data)\n",
    "mean = sum/n\n",
    "\n",
    "\n",
    "std = math.sqrt((((data[0]-mean)**2)+((data[1]-mean)**2)+((data[2]-mean)**2))/n)\n",
    "print(std)"
   ]
  },
  {
   "cell_type": "code",
   "execution_count": 33,
   "metadata": {},
   "outputs": [
    {
     "name": "stdout",
     "output_type": "stream",
     "text": [
      "132.65008805692582\n"
     ]
    }
   ],
   "source": [
    "hww = [50, 90, 70, 40, 100]\n",
    "test = [70, 80]\n",
    "classp = [10, 100, 50]\n",
    "\n",
    "nH = len(hww)\n",
    "nT = len(test)\n",
    "nC = len(classp)\n",
    "\n",
    "meanH = sum/nH\n",
    "meanT = sum/nT\n",
    "meanC = sum/nC\n",
    "\n",
    "hPer = .2\n",
    "tPer = .5\n",
    "cPer = .3\n",
    "\n",
    "stdH = math.sqrt((((hww[0]-meanH)**2)+((hww[1]-meanH)**2)+((hww[2]-meanH)**2)+((hww[3]-meanH)**2)+((hww[4]-meanH)**2))/nH)\n",
    "stdT = math.sqrt((((test[0]-meanT)**2)+((test[1]-meanT)**2))/nT)\n",
    "stdC = math.sqrt((((classp[0]-meanC)**2)+((classp[1]-meanC)**2)+((classp[2]-meanC)**2))/nC)\n",
    "\n",
    "\n",
    "sumH = (hww[0]*hPer)+(hww[1]*hPer)+(hww[2]*hPer)+(hww[3]*hPer)+(hww[4]*hPer)\n",
    "sumT = (test[0]*tPer)+(test[1]*tPer)\n",
    "sumC = (classp[0]*cPer)+(classp[1]*cPer)+(classp[2]*cPer)\n",
    "\n",
    "totalH = stdH + sumH\n",
    "totalT = sumT + stdT\n",
    "totalC = sumC + stdC\n",
    "\n",
    "ALL = (totalH + totalT + totalC)/3\n",
    "\n",
    "print(ALL)"
   ]
  },
  {
   "cell_type": "code",
   "execution_count": 1,
   "metadata": {},
   "outputs": [
    {
     "ename": "SyntaxError",
     "evalue": "invalid syntax (<ipython-input-1-ccfb0b6ca68e>, line 1)",
     "output_type": "error",
     "traceback": [
      "\u001b[1;36m  File \u001b[1;32m\"<ipython-input-1-ccfb0b6ca68e>\"\u001b[1;36m, line \u001b[1;32m1\u001b[0m\n\u001b[1;33m    using UnityEngine;\u001b[0m\n\u001b[1;37m                    ^\u001b[0m\n\u001b[1;31mSyntaxError\u001b[0m\u001b[1;31m:\u001b[0m invalid syntax\n"
     ]
    }
   ],
   "source": [
    "using UnityEngine;\n",
    "using UnityEngine.UI;\n",
    "using System;\n",
    "using System.Collections.Generic;\n",
    "public class UILogic : MonoBehaviour\n",
    "{\n",
    "    public Text text;\n",
    "    public Text worried;\n",
    "    public Text resultDisplay;\n",
    "    public string processedText;\n",
    "    public InputField input;\n",
    "    public InputField weight;\n",
    "\n",
    "    public List<double> LW = new List<double>();\n",
    "    public List<List<double>> Nested = new List<List<double>>();\n",
    "\n",
    "\n",
    "\n",
    "    public void getInput()\n",
    "    \n",
    "    {\n",
    "        processText(input.textComponent.text);\n",
    "        processWeight(weight.textComponent.text);\n",
    "    }\n",
    "    public void displayOutput(double r)\n",
    "    {\n",
    "        Debug.Log(processedText);\n",
    "        string result = r.ToString();\n",
    "\n",
    "        resultDisplay.text = \"Your Grade: \" + result;\n",
    "        \n",
    "        if(r > 70)\n",
    "        {\n",
    "            worried.text = \"Dont Worry:\";\n",
    "        }\n",
    "\n",
    "        else\n",
    "        {\n",
    "            worried.text = \"You Should Worry\";\n",
    "        }\n",
    "\n",
    "\n",
    "\n",
    "\n",
    "\n",
    "        //text.text = InputHandler.getAverageChars(processedText).ToString();\n",
    "    }\n",
    "    public void processText(string inS)\n",
    "    {\n",
    "        string[] inputvalues = inS.Split();\n",
    "        List<double> listD = new List<double>();\n",
    "        foreach(string x in inputvalues)\n",
    "        {\n",
    "            Double.TryParse(x, out double result);\n",
    "            listD.Add(result);\n",
    "        }\n",
    "        Nested.Add(listD);\n",
    "    }\n",
    "\n",
    "    public void processWeight(string inS)\n",
    "    {\n",
    "        Double.TryParse(inS, out double result);\n",
    "        LW.Add(result);\n",
    "\n",
    "    }\n",
    "\n",
    "    public double calculate(List<List<double>> Nested, List<double> LW)\n",
    "    {\n",
    "        int i = 0;\n",
    "        double weighted = 0;\n",
    "        double toWeight = 0;\n",
    "\n",
    "        foreach(List<double> nestSet in Nested)\n",
    "        {\n",
    "            double NestSum = 0;\n",
    "            foreach(double nest in nestSet)\n",
    "            {\n",
    "                NestSum += nest;\n",
    "            }\n",
    "\n",
    "            weighted += LW[i] * (NestSum / nestSet.Count);\n",
    "            toWeight += LW[i];\n",
    "            i++;\n",
    "\n",
    "        }\n",
    "\n",
    "        double result = weighted / toWeight;\n",
    "        return result;\n",
    "    }\n",
    "\n",
    "    public void getCalculation()\n",
    "    {\n",
    "        double result = calculate(Nested, LW);\n",
    "        displayOutput(result);\n",
    "    }\n",
    "\n",
    "}\n"
   ]
  },
  {
   "cell_type": "code",
   "execution_count": null,
   "metadata": {},
   "outputs": [],
   "source": []
  }
 ],
 "metadata": {
  "kernelspec": {
   "display_name": "Python 3",
   "language": "python",
   "name": "python3"
  },
  "language_info": {
   "codemirror_mode": {
    "name": "ipython",
    "version": 3
   },
   "file_extension": ".py",
   "mimetype": "text/x-python",
   "name": "python",
   "nbconvert_exporter": "python",
   "pygments_lexer": "ipython3",
   "version": "3.7.3"
  }
 },
 "nbformat": 4,
 "nbformat_minor": 2
}
